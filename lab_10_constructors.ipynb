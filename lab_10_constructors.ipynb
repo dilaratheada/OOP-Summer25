{
 "cells": [
  {
   "cell_type": "code",
   "execution_count": 12,
   "id": "ba753f40",
   "metadata": {},
   "outputs": [],
   "source": [
    "class Animal:\n",
    "    def __init__(self):\n",
    "        print(\"I love OOP lessons <3\")"
   ]
  },
  {
   "cell_type": "code",
   "execution_count": 2,
   "id": "30a44a47",
   "metadata": {},
   "outputs": [
    {
     "name": "stdout",
     "output_type": "stream",
     "text": [
      "I love OOP lessons <3\n"
     ]
    }
   ],
   "source": [
    "animal1 = Animal()"
   ]
  },
  {
   "cell_type": "code",
   "execution_count": 3,
   "id": "178d5194",
   "metadata": {},
   "outputs": [
    {
     "name": "stdout",
     "output_type": "stream",
     "text": [
      "I love OOP lessons <3\n"
     ]
    }
   ],
   "source": [
    "animal2 = Animal()"
   ]
  },
  {
   "cell_type": "code",
   "execution_count": 4,
   "id": "d22fc00b",
   "metadata": {},
   "outputs": [
    {
     "name": "stdout",
     "output_type": "stream",
     "text": [
      "I love OOP lessons <3\n"
     ]
    }
   ],
   "source": [
    "animal3 = Animal()"
   ]
  },
  {
   "cell_type": "code",
   "execution_count": 5,
   "id": "71599437",
   "metadata": {},
   "outputs": [],
   "source": [
    "class Car:\n",
    "    def __init__(self, brand, model):\n",
    "        self.brand = brand\n",
    "        self.model = model"
   ]
  },
  {
   "cell_type": "code",
   "execution_count": 8,
   "id": "7339fede",
   "metadata": {},
   "outputs": [],
   "source": [
    "car1 = Car(\"Porsche\", 911)"
   ]
  },
  {
   "cell_type": "code",
   "execution_count": 9,
   "id": "bc6f8d36",
   "metadata": {},
   "outputs": [],
   "source": [
    "car2 = Car(\"Volswagen\", \"Passat\")"
   ]
  },
  {
   "cell_type": "code",
   "execution_count": 10,
   "id": "ad2ad362",
   "metadata": {},
   "outputs": [],
   "source": [
    "car3 = Car(\"Ferrari\", \"PORTOFINO\")"
   ]
  },
  {
   "cell_type": "markdown",
   "id": "e08abd3a",
   "metadata": {},
   "source": [
    "## Task for extra point - complex constructor"
   ]
  },
  {
   "cell_type": "code",
   "execution_count": 11,
   "id": "15ab2b02",
   "metadata": {},
   "outputs": [],
   "source": [
    "class House:\n",
    "    def __init__(self, location, floors, furnitures):\n",
    "        self.location = location\n",
    "        self.floors = floors\n",
    "        self.furnitures = furnitures"
   ]
  },
  {
   "cell_type": "code",
   "execution_count": 13,
   "id": "f30120e7",
   "metadata": {},
   "outputs": [],
   "source": [
    "location_data = {\n",
    "  'country':'Poland', \n",
    "  'city': 'Warsaw',\n",
    "  'street': 'Slowicza 41'\n",
    "}\n",
    "furnitures_data = [\"table\", \"chair\", \"TV\", \"sofa\", \"bed\"]"
   ]
  },
  {
   "cell_type": "code",
   "execution_count": 20,
   "id": "1a8131a7",
   "metadata": {},
   "outputs": [],
   "source": [
    "location_data2 = {\n",
    "    'country' : 'Turkiye',\n",
    "    'city' : 'Izmir',\n",
    "    'street' : '982'\n",
    "}\n",
    "furnitures_data2 = [\"desk\", \"bed\", \"sofa\", \"washing machine\", \"TV\", \"chair\"]"
   ]
  },
  {
   "cell_type": "code",
   "execution_count": 21,
   "id": "932a5558",
   "metadata": {},
   "outputs": [],
   "source": [
    "house1 = House(location_data, 4, furnitures_data)\n",
    "house2 = House(location_data2, 1, furnitures_data2)"
   ]
  }
 ],
 "metadata": {
  "kernelspec": {
   "display_name": "Python 3",
   "language": "python",
   "name": "python3"
  },
  "language_info": {
   "codemirror_mode": {
    "name": "ipython",
    "version": 3
   },
   "file_extension": ".py",
   "mimetype": "text/x-python",
   "name": "python",
   "nbconvert_exporter": "python",
   "pygments_lexer": "ipython3",
   "version": "3.12.1"
  }
 },
 "nbformat": 4,
 "nbformat_minor": 5
}
