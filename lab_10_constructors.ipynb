{
 "cells": [
  {
   "cell_type": "code",
   "execution_count": 1,
   "id": "ba753f40",
   "metadata": {},
   "outputs": [],
   "source": [
    "class Animal:\n",
    "    def __init__(self):\n",
    "        print(\"I love OOP lessons <3\")"
   ]
  },
  {
   "cell_type": "code",
   "execution_count": 2,
   "id": "30a44a47",
   "metadata": {},
   "outputs": [
    {
     "name": "stdout",
     "output_type": "stream",
     "text": [
      "I love OOP lessons <3\n"
     ]
    }
   ],
   "source": [
    "animal1 = Animal()"
   ]
  },
  {
   "cell_type": "code",
   "execution_count": 3,
   "id": "178d5194",
   "metadata": {},
   "outputs": [
    {
     "name": "stdout",
     "output_type": "stream",
     "text": [
      "I love OOP lessons <3\n"
     ]
    }
   ],
   "source": [
    "animal2 = Animal()"
   ]
  },
  {
   "cell_type": "code",
   "execution_count": 4,
   "id": "d22fc00b",
   "metadata": {},
   "outputs": [
    {
     "name": "stdout",
     "output_type": "stream",
     "text": [
      "I love OOP lessons <3\n"
     ]
    }
   ],
   "source": [
    "animal3 = Animal()"
   ]
  }
 ],
 "metadata": {
  "kernelspec": {
   "display_name": "Python 3",
   "language": "python",
   "name": "python3"
  },
  "language_info": {
   "codemirror_mode": {
    "name": "ipython",
    "version": 3
   },
   "file_extension": ".py",
   "mimetype": "text/x-python",
   "name": "python",
   "nbconvert_exporter": "python",
   "pygments_lexer": "ipython3",
   "version": "3.12.1"
  }
 },
 "nbformat": 4,
 "nbformat_minor": 5
}
