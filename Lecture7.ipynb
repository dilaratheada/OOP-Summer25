{
  "cells": [
    {
      "cell_type": "markdown",
      "id": "24e4de67-f9da-415f-9fda-4d0fcdc87b18",
      "metadata": {},
      "source": [
        "### What is the benefit of using classes?"
      ]
    },
    {
      "cell_type": "code",
      "execution_count": null,
      "id": "52d2fb5f-c707-416e-bf64-f4ea4e2cb2e4",
      "metadata": {
        "trusted": true
      },
      "outputs": [],
      "source": [
        "# Classes allow you to create objects that group attributes and methods together.\n",
        "# (organized code, reusability, scalability, encapsulation)"
      ]
    },
    {
      "cell_type": "markdown",
      "id": "8a69727b-e8b4-48e8-b668-ca65aded30ab",
      "metadata": {},
      "source": [
        "### Difference between class and dictionary"
      ]
    },
    {
      "cell_type": "markdown",
      "id": "8e28dc9b-de4a-479f-ba64-597e9114a6b1",
      "metadata": {},
      "source": [
        "#### Class"
      ]
    },
    {
      "cell_type": "code",
      "execution_count": 15,
      "id": "c3f9166f-c18f-49b4-9aec-5726790fcdc8",
      "metadata": {
        "trusted": true
      },
      "outputs": [],
      "source": [
        "# Structure: Blueprint to create objects\n",
        "# Access: Using dot notation (obj.attr)\n",
        "# Behavior: Can include functions\n",
        "# Flexibility: Better for modeling real-world things"
      ]
    },
    {
      "cell_type": "code",
      "execution_count": 1,
      "id": "e1965426-56d7-4dd6-b692-a4d2ed8e9ca5",
      "metadata": {
        "trusted": true
      },
      "outputs": [
        {
          "name": "stdout",
          "output_type": "stream",
          "text": [
            "Ada\n"
          ]
        }
      ],
      "source": [
        "class Person:\n",
        "    def __init__(self, name, age):\n",
        "        self.name = name\n",
        "        self.age = age\n",
        "person = Person(\"Ada\", 19)\n",
        "print(person.name)"
      ]
    },
    {
      "cell_type": "markdown",
      "id": "485a2808-f302-4c68-b8c0-a8b3a3d6367c",
      "metadata": {},
      "source": [
        "#### Dictionary"
      ]
    },
    {
      "cell_type": "code",
      "execution_count": 17,
      "id": "d11f7f9a-c475-46ef-9d4a-955b553f35ec",
      "metadata": {
        "trusted": true
      },
      "outputs": [],
      "source": [
        "# Structure: key-value store\n",
        "# Access: using key indexing (dict['key'])\n",
        "# Behavior: Can't have behavior directly\n",
        "# Flexibility: Good for simple, unstructured data"
      ]
    },
    {
      "cell_type": "code",
      "execution_count": 2,
      "id": "b2d2a4c0-c857-4ec5-9959-8a5818a10336",
      "metadata": {
        "trusted": true
      },
      "outputs": [
        {
          "name": "stdout",
          "output_type": "stream",
          "text": [
            "Dilara\n"
          ]
        }
      ],
      "source": [
        "person_dict = {\"name\": \"Dilara\", \"age\": 21}\n",
        "print(person_dict[\"name\"])"
      ]
    },
    {
      "cell_type": "markdown",
      "id": "390bcac8-fa16-43ef-b8eb-bb96806cda7d",
      "metadata": {},
      "source": [
        "### The simplest class ever"
      ]
    },
    {
      "cell_type": "code",
      "execution_count": 3,
      "id": "f036bacd-77fd-4c07-ae14-edf0fa173e55",
      "metadata": {
        "trusted": true
      },
      "outputs": [],
      "source": [
        "# we need an empty class so we use a pass for it to act empty\n",
        "class MyClass:\n",
        "    pass"
      ]
    },
    {
      "cell_type": "markdown",
      "id": "c35a90fc-5608-449a-93b1-aaf6f345b5c7",
      "metadata": {},
      "source": [
        "### The simplest object ever"
      ]
    },
    {
      "cell_type": "code",
      "execution_count": 4,
      "id": "9174e9b9-db58-4de5-8304-970966143e46",
      "metadata": {
        "trusted": true
      },
      "outputs": [],
      "source": [
        "# because MyClass is \"empty\" we can also use it as the simplest object\n",
        "obj = MyClass()"
      ]
    },
    {
      "cell_type": "markdown",
      "id": "3de8dd6d-4674-4efd-915c-0deff3999b56",
      "metadata": {},
      "source": [
        "### Class with one method"
      ]
    },
    {
      "cell_type": "code",
      "execution_count": 8,
      "id": "82e8bc6c-531d-4027-b85e-bc5d26c0ff34",
      "metadata": {
        "trusted": true
      },
      "outputs": [],
      "source": [
        "class MyDog:\n",
        "    def __init__(self, name):\n",
        "        self.name = name"
      ]
    },
    {
      "cell_type": "markdown",
      "id": "b29f83c5-46f2-4eb2-97e0-514f00f509a7",
      "metadata": {},
      "source": [
        "#### The usage of the method"
      ]
    },
    {
      "cell_type": "code",
      "execution_count": 9,
      "id": "763b83b3-4bc7-487c-ab2f-5114f90040d7",
      "metadata": {
        "trusted": true
      },
      "outputs": [
        {
          "name": "stdout",
          "output_type": "stream",
          "text": [
            "Badem\n"
          ]
        }
      ],
      "source": [
        "dog1 = MyDog(\"Badem\")\n",
        "print(dog1.name)"
      ]
    },
    {
      "cell_type": "markdown",
      "id": "3352ff80-8340-4003-b7c2-dc1f0aefaa82",
      "metadata": {},
      "source": [
        "### How to use function in classes?"
      ]
    },
    {
      "cell_type": "code",
      "execution_count": 7,
      "id": "935c0eb3-8979-482b-bdaf-03bf1262aa6e",
      "metadata": {
        "trusted": true
      },
      "outputs": [
        {
          "name": "stdout",
          "output_type": "stream",
          "text": [
            "786\n"
          ]
        }
      ],
      "source": [
        "class Calc:\n",
        "    def add(self, a, b):\n",
        "        return a + b\n",
        "\n",
        "calc = Calc()\n",
        "result = calc.add(45, 741)\n",
        "print(result)"
      ]
    }
  ],
  "metadata": {
    "kernelspec": {
      "display_name": "Python 3",
      "language": "python",
      "name": "python3"
    },
    "language_info": {
      "codemirror_mode": {
        "name": "ipython",
        "version": 3
      },
      "file_extension": ".py",
      "mimetype": "text/x-python",
      "name": "python",
      "nbconvert_exporter": "python",
      "pygments_lexer": "ipython3",
      "version": "3.12.1"
    }
  },
  "nbformat": 4,
  "nbformat_minor": 5
}
