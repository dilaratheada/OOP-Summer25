{
 "cells": [
  {
   "cell_type": "code",
   "execution_count": 3,
   "id": "dfff93bb",
   "metadata": {},
   "outputs": [],
   "source": [
    "class Student:\n",
    "    def say_hello(self):\n",
    "        print(\"Hello!\")"
   ]
  },
  {
   "cell_type": "code",
   "execution_count": 4,
   "id": "7bd1d37c",
   "metadata": {},
   "outputs": [
    {
     "name": "stdout",
     "output_type": "stream",
     "text": [
      "Hello!\n"
     ]
    }
   ],
   "source": [
    "student1 = Student()\n",
    "student1.say_hello()"
   ]
  },
  {
   "cell_type": "code",
   "execution_count": 8,
   "id": "788cb5d5",
   "metadata": {},
   "outputs": [],
   "source": [
    "class Student:\n",
    "    def __init__(self, name, index_number):\n",
    "        self.name = name\n",
    "        self.index_number = index_number\n",
    "    def hello(self):\n",
    "        print(f\"Hello, I am {self.name} and my index number is {self.index_number}.\")"
   ]
  },
  {
   "cell_type": "code",
   "execution_count": 9,
   "id": "a63e2b29",
   "metadata": {},
   "outputs": [
    {
     "name": "stdout",
     "output_type": "stream",
     "text": [
      "Hello, I am Ada Dilara Ozgurel and my index number is 35465.\n"
     ]
    }
   ],
   "source": [
    "student1 = Student(\"Ada Dilara Ozgurel\", 35465)\n",
    "student1.hello()"
   ]
  }
 ],
 "metadata": {
  "kernelspec": {
   "display_name": "Python 3",
   "language": "python",
   "name": "python3"
  },
  "language_info": {
   "codemirror_mode": {
    "name": "ipython",
    "version": 3
   },
   "file_extension": ".py",
   "mimetype": "text/x-python",
   "name": "python",
   "nbconvert_exporter": "python",
   "pygments_lexer": "ipython3",
   "version": "3.12.1"
  }
 },
 "nbformat": 4,
 "nbformat_minor": 5
}
